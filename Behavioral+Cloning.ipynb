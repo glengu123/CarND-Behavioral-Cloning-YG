{
 "cells": [
  {
   "cell_type": "code",
   "execution_count": 1,
   "metadata": {},
   "outputs": [
    {
     "name": "stderr",
     "output_type": "stream",
     "text": [
      "Using TensorFlow backend.\n"
     ]
    }
   ],
   "source": [
    "import csv\n",
    "import cv2\n",
    "import numpy as np\n",
    "from keras.models import Sequential\n",
    "from keras.layers.core import Dense, Flatten, Dropout, Lambda,Activation\n",
    "from keras.layers.convolutional import Convolution2D, Cropping2D\n",
    "from keras.layers.pooling import MaxPooling2D \n",
    "from keras.models import Sequential\n",
    "from keras.layers import Flatten, Dense"
   ]
  },
  {
   "cell_type": "code",
   "execution_count": 2,
   "metadata": {
    "collapsed": true
   },
   "outputs": [],
   "source": [
    "samples = []\n",
    "def read_img(csv_path):\n",
    "    with open(csv_path) as csvfile:\n",
    "        reader = csv.reader(csvfile)\n",
    "        for line in reader:\n",
    "            samples.append(line)\n",
    "        return samples[1:]\n",
    "csv_samples = read_img('./data/driving_log.csv')\n",
    "\n",
    "from sklearn.model_selection import train_test_split\n",
    "train_samples, validation_samples = train_test_split(csv_samples, test_size=0.2)"
   ]
  },
  {
   "cell_type": "code",
   "execution_count": 3,
   "metadata": {},
   "outputs": [
    {
     "data": {
      "text/plain": [
       "' IMG/right_2016_12_01_13_45_21_811.jpg'"
      ]
     },
     "execution_count": 3,
     "metadata": {},
     "output_type": "execute_result"
    }
   ],
   "source": [
    "np.array(train_samples)[5][2]"
   ]
  },
  {
   "cell_type": "code",
   "execution_count": 4,
   "metadata": {
    "collapsed": true
   },
   "outputs": [],
   "source": [
    "def flipped(image):\n",
    "    return np.fliplr(image)"
   ]
  },
  {
   "cell_type": "code",
   "execution_count": 5,
   "metadata": {
    "collapsed": true
   },
   "outputs": [],
   "source": [
    "import sklearn\n",
    "def generator(samples, batch_size=64):\n",
    "    num_samples = len(samples)\n",
    "    while 1: # Loop forever so the generator never terminates\n",
    "        sklearn.utils.shuffle(samples)\n",
    "        for offset in range(0, num_samples, batch_size):\n",
    "            batch_samples = samples[offset:offset+batch_size]\n",
    "            images = []\n",
    "            angles = []\n",
    "            data_path = './data/IMG'\n",
    "            for batch_sample in batch_samples:\n",
    "                #name = './IMG/'+batch_sample[0].split('/')[-1]\n",
    "                center_img = cv2.imread(data_path + batch_sample[0].split('IMG')[1])\n",
    "                center_img_flip = flipped(center_img)\n",
    "                left_img = cv2.imread(data_path + batch_sample[1].split('IMG')[1])\n",
    "                left_img_flip = flipped(left_img)\n",
    "                right_img = cv2.imread(data_path + batch_sample[2].split('IMG')[1])\n",
    "                right_img_flip = flipped(right_img)\n",
    "                center_angle = float(batch_sample[3])\n",
    "                center_angle_flip = - center_angle\n",
    "                left_angle = float(batch_sample[3]) + 0.2\n",
    "                left_angle_flip = - left_angle\n",
    "                right_angle = float(batch_sample[3]) - 0.2\n",
    "                right_angle_flip = - right_angle\n",
    "                #if np.random.rand() >= 0.5:\n",
    "                images.append(center_img)\n",
    "                images.append(left_img)\n",
    "                images.append(right_img)\n",
    "                angles.append(center_angle)\n",
    "                angles.append(left_angle)\n",
    "                angles.append(right_angle)\n",
    "                #else:\n",
    "                images.append(center_img_flip)\n",
    "                images.append(left_img_flip)\n",
    "                images.append(right_img_flip)\n",
    "                angles.append(center_angle_flip)\n",
    "                angles.append(left_angle_flip)\n",
    "                angles.append(right_angle_flip)\n",
    "\n",
    "            # trim image to only see section with road\n",
    "            X_train = np.array(images)\n",
    "            y_train = np.array(angles)\n",
    "            yield sklearn.utils.shuffle(X_train, y_train)\n",
    "\n",
    "# compile and train the model using the generator function\n",
    "train_generator = generator(train_samples, batch_size=64)\n",
    "validation_generator = generator(validation_samples, batch_size=64)"
   ]
  },
  {
   "cell_type": "code",
   "execution_count": 6,
   "metadata": {
    "collapsed": true
   },
   "outputs": [],
   "source": [
    "#for i in range(10):\n",
    "    #my_output = (next(train_generator))\n",
    "    \n",
    "#print(my_output)"
   ]
  },
  {
   "cell_type": "code",
   "execution_count": 6,
   "metadata": {},
   "outputs": [
    {
     "name": "stdout",
     "output_type": "stream",
     "text": [
      "Epoch 1/10\n",
      "38568/38568 [==============================] - 92s - loss: 0.0241 - val_loss: 0.0196\n",
      "Epoch 2/10\n",
      "38568/38568 [==============================] - 87s - loss: 0.0193 - val_loss: 0.0176\n",
      "Epoch 3/10\n",
      "38568/38568 [==============================] - 87s - loss: 0.0182 - val_loss: 0.0171\n",
      "Epoch 4/10\n",
      "38568/38568 [==============================] - 87s - loss: 0.0174 - val_loss: 0.0167\n",
      "Epoch 5/10\n",
      "38568/38568 [==============================] - 87s - loss: 0.0168 - val_loss: 0.0167\n",
      "Epoch 6/10\n",
      "38568/38568 [==============================] - 87s - loss: 0.0163 - val_loss: 0.0161\n",
      "Epoch 7/10\n",
      "38568/38568 [==============================] - 88s - loss: 0.0157 - val_loss: 0.0160\n",
      "Epoch 8/10\n",
      "38568/38568 [==============================] - 88s - loss: 0.0152 - val_loss: 0.0155\n",
      "Epoch 9/10\n",
      "38568/38568 [==============================] - 88s - loss: 0.0148 - val_loss: 0.0153\n",
      "Epoch 10/10\n",
      "38568/38568 [==============================] - 88s - loss: 0.0144 - val_loss: 0.0152\n",
      "dict_keys(['val_loss', 'loss'])\n"
     ]
    },
    {
     "data": {
      "image/png": "[encoded data removed]",
      "text/plain": [
       "<matplotlib.figure.Figure at 0x7f22d7629550>"
      ]
     },
     "metadata": {},
     "output_type": "display_data"
    }
   ],
   "source": [
    "model = Sequential()\n",
    "model.add(Cropping2D(cropping = ((70, 25), (0, 0)), input_shape = (160, 320, 3)))\n",
    "model.add(Lambda(lambda x: (x / 127.5) - 1., input_shape = (65, 320, 3)))\n",
    "model.add(Convolution2D(24, 5, 5, subsample=(2, 2), activation='relu'))\n",
    "model.add(Convolution2D(36, 5, 5, subsample=(2, 2), activation='relu'))\n",
    "model.add(Convolution2D(48, 5, 5, subsample=(2, 2), activation='relu'))\n",
    "model.add(Convolution2D(64, 3, 3, activation='relu'))\n",
    "model.add(Convolution2D(64, 3, 3, activation='relu'))\n",
    "model.add(Dropout(0.5))\n",
    "model.add(Flatten())\n",
    "model.add(Dropout(0.2))\n",
    "model.add(Dense(100))\n",
    "model.add(Activation('elu'))\n",
    "model.add(Dropout(0.2))\n",
    "model.add(Dense(50))\n",
    "model.add(Activation('elu'))\n",
    "model.add(Dropout(0.2))\n",
    "model.add(Dense(10))\n",
    "model.add(Activation('elu'))\n",
    "model.add(Dropout(0.2))\n",
    "model.add(Dense(1))\n",
    "\n",
    "\n",
    "model.compile(loss='mse', optimizer='adam')\n",
    "from keras.models import Model\n",
    "import matplotlib.pyplot as plt\n",
    "\n",
    "history_object = model.fit_generator(train_generator, samples_per_epoch =\n",
    "    len(train_samples) *6, validation_data = \n",
    "    validation_generator,\n",
    "    nb_val_samples = len(validation_samples) * 6, \n",
    "    nb_epoch=10, verbose=1)\n",
    "\n",
    "### print the keys contained in the history object\n",
    "print(history_object.history.keys())\n",
    "plt.rcParams['figure.figsize'] = (16, 9)\n",
    "### plot the training and validation loss for each epoch\n",
    "plt.plot(history_object.history['loss'])\n",
    "plt.plot(history_object.history['val_loss'])\n",
    "plt.title('model mean squared error loss')\n",
    "plt.ylabel('mean squared error loss')\n",
    "plt.xlabel('epoch')\n",
    "plt.legend(['training set', 'validation set'], loc='upper right')\n",
    "plt.show()\n",
    "model.save('model.h5')"
   ]
  },
  {
   "cell_type": "code",
   "execution_count": null,
   "metadata": {},
   "outputs": [
    {
     "name": "stdout",
     "output_type": "stream",
     "text": [
      "Epoch 1/10\n",
      "6228/6428 [============================>.] - ETA: 0s - loss: 0.0120"
     ]
    },
    {
     "name": "stderr",
     "output_type": "stream",
     "text": [
      "/home/carnd/anaconda3/envs/carnd-term1/lib/python3.5/site-packages/keras/engine/training.py:1569: UserWarning: Epoch comprised more than `samples_per_epoch` samples, which might affect learning results. Set `samples_per_epoch` correctly to avoid this warning.\n",
      "  warnings.warn('Epoch comprised more than '\n"
     ]
    },
    {
     "name": "stdout",
     "output_type": "stream",
     "text": [
      "6612/6428 [==============================] - 22s - loss: 0.0120 - val_loss: 0.0139\n",
      "Epoch 2/10\n",
      "6528/6428 [==============================] - 21s - loss: 0.0122 - val_loss: 0.0102\n",
      "Epoch 3/10\n",
      "3072/6428 [=============>................] - ETA: 9s - loss: 0.0100 "
     ]
    }
   ],
   "source": [
    "from keras.models import Model\n",
    "import matplotlib.pyplot as plt\n",
    "\n",
    "history_object = model.fit_generator(train_generator, samples_per_epoch =\n",
    "    len(train_samples), validation_data = \n",
    "    validation_generator,\n",
    "    nb_val_samples = len(validation_samples), \n",
    "    nb_epoch=10, verbose=1)\n",
    "\n",
    "### print the keys contained in the history object\n",
    "print(history_object.history.keys())\n",
    "\n",
    "### plot the training and validation loss for each epoch\n",
    "plt.plot(history_object.history['loss'])\n",
    "plt.plot(history_object.history['val_loss'])\n",
    "plt.title('model mean squared error loss')\n",
    "plt.ylabel('mean squared error loss')\n",
    "plt.xlabel('epoch')\n",
    "plt.legend(['training set', 'validation set'], loc='upper right')\n",
    "plt.show()"
   ]
  },
  {
   "cell_type": "code",
   "execution_count": null,
   "metadata": {
    "collapsed": true
   },
   "outputs": [],
   "source": []
  }
 ],
 "metadata": {
  "kernelspec": {
   "display_name": "Python 3",
   "language": "python",
   "name": "python3"
  },
  "language_info": {
   "codemirror_mode": {
    "name": "ipython",
    "version": 3
   },
   "file_extension": ".py",
   "mimetype": "text/x-python",
   "name": "python",
   "nbconvert_exporter": "python",
   "pygments_lexer": "ipython3",
   "version": "3.5.2"
  },
  "widgets": {
   "state": {},
   "version": "1.1.2"
  }
 },
 "nbformat": 4,
 "nbformat_minor": 2
}
